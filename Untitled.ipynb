{
 "cells": [
  {
   "cell_type": "code",
   "execution_count": 5,
   "id": "3a89eff6-3bc0-4d13-b560-32068a3e6b49",
   "metadata": {},
   "outputs": [
    {
     "ename": "SyntaxError",
     "evalue": "closing parenthesis '}' does not match opening parenthesis '[' (core.py, line 10)",
     "output_type": "error",
     "traceback": [
      "Traceback \u001b[1;36m(most recent call last)\u001b[0m:\n",
      "\u001b[0m  File \u001b[0;32m~\\anaconda3\\Lib\\site-packages\\IPython\\core\\interactiveshell.py:3577\u001b[0m in \u001b[0;35mrun_code\u001b[0m\n    exec(code_obj, self.user_global_ns, self.user_ns)\u001b[0m\n",
      "\u001b[0m  Cell \u001b[0;32mIn[5], line 1\u001b[0m\n    import smartformatter\u001b[0m\n",
      "\u001b[1;36m  File \u001b[1;32m~\\smartformatter\\smartformatter\\__init__.py:2\u001b[1;36m\n\u001b[1;33m    from .core import format_name, format_phone, format_currency, number_two_words, slugify\u001b[1;36m\n",
      "\u001b[1;36m  File \u001b[1;32m~\\smartformatter\\smartformatter\\core.py:10\u001b[1;36m\u001b[0m\n\u001b[1;33m    return f\"{[digits[:2]} {digits[2:7]} {digits[7:]}\"\u001b[0m\n\u001b[1;37m                         ^\u001b[0m\n\u001b[1;31mSyntaxError\u001b[0m\u001b[1;31m:\u001b[0m closing parenthesis '}' does not match opening parenthesis '['\n"
     ]
    }
   ],
   "source": [
    "import smartformatter"
   ]
  },
  {
   "cell_type": "code",
   "execution_count": 6,
   "id": "0e697a34-ebf7-4404-b224-ca601dac28cf",
   "metadata": {},
   "outputs": [
    {
     "ename": "SyntaxError",
     "evalue": "closing parenthesis '}' does not match opening parenthesis '[' (core.py, line 10)",
     "output_type": "error",
     "traceback": [
      "Traceback \u001b[1;36m(most recent call last)\u001b[0m:\n",
      "\u001b[0m  File \u001b[0;32m~\\anaconda3\\Lib\\site-packages\\IPython\\core\\interactiveshell.py:3577\u001b[0m in \u001b[0;35mrun_code\u001b[0m\n    exec(code_obj, self.user_global_ns, self.user_ns)\u001b[0m\n",
      "\u001b[0m  Cell \u001b[0;32mIn[6], line 1\u001b[0m\n    from smartformatter import format_currency\u001b[0m\n",
      "\u001b[1;36m  File \u001b[1;32m~\\smartformatter\\smartformatter\\__init__.py:2\u001b[1;36m\n\u001b[1;33m    from .core import format_name, format_phone, format_currency, number_two_words, slugify\u001b[1;36m\n",
      "\u001b[1;36m  File \u001b[1;32m~\\smartformatter\\smartformatter\\core.py:10\u001b[1;36m\u001b[0m\n\u001b[1;33m    return f\"{[digits[:2]} {digits[2:7]} {digits[7:]}\"\u001b[0m\n\u001b[1;37m                         ^\u001b[0m\n\u001b[1;31mSyntaxError\u001b[0m\u001b[1;31m:\u001b[0m closing parenthesis '}' does not match opening parenthesis '['\n"
     ]
    }
   ],
   "source": [
    "from smartformatter import format_currency"
   ]
  },
  {
   "cell_type": "code",
   "execution_count": 7,
   "id": "6a30caf5-46dd-47dc-83ce-bd852609fb30",
   "metadata": {},
   "outputs": [
    {
     "ename": "NameError",
     "evalue": "name 'format_currency' is not defined",
     "output_type": "error",
     "traceback": [
      "\u001b[1;31m---------------------------------------------------------------------------\u001b[0m",
      "\u001b[1;31mNameError\u001b[0m                                 Traceback (most recent call last)",
      "Cell \u001b[1;32mIn[7], line 1\u001b[0m\n\u001b[1;32m----> 1\u001b[0m format_currency(\u001b[38;5;241m38793474\u001b[39m)\n",
      "\u001b[1;31mNameError\u001b[0m: name 'format_currency' is not defined"
     ]
    }
   ],
   "source": [
    "format_currency(38793474)"
   ]
  },
  {
   "cell_type": "code",
   "execution_count": null,
   "id": "58edf248-6a3b-47cd-856e-ebea3e54a232",
   "metadata": {},
   "outputs": [],
   "source": []
  }
 ],
 "metadata": {
  "kernelspec": {
   "display_name": "Python [conda env:base] *",
   "language": "python",
   "name": "conda-base-py"
  },
  "language_info": {
   "codemirror_mode": {
    "name": "ipython",
    "version": 3
   },
   "file_extension": ".py",
   "mimetype": "text/x-python",
   "name": "python",
   "nbconvert_exporter": "python",
   "pygments_lexer": "ipython3",
   "version": "3.12.7"
  }
 },
 "nbformat": 4,
 "nbformat_minor": 5
}
