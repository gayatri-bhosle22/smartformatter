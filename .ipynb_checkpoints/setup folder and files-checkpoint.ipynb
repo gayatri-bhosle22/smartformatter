{
 "cells": [
  {
   "cell_type": "code",
   "execution_count": 1,
   "id": "92a009a6-f342-4298-b112-2d0120179c25",
   "metadata": {},
   "outputs": [],
   "source": [
    "!mKdir smartformatter"
   ]
  },
  {
   "cell_type": "code",
   "execution_count": 3,
   "id": "c43b8cd2-0799-41ff-b220-d91582d6e4c0",
   "metadata": {},
   "outputs": [
    {
     "name": "stdout",
     "output_type": "stream",
     "text": [
      "Writing setup.py\n"
     ]
    }
   ],
   "source": [
    "%%writefile setup.py\n",
    "\n",
    "from setuptools import setup, find_packages\n",
    "\n",
    "setup(\n",
    "    name='smartformatter',\n",
    "    version='0.1'\n",
    "    packages=find_packages(),\n",
    "    install_requires=['inflect']\n",
    "    author='gayatri'\n",
    "    description='utility functions for smart formatting of names, phones, numbers.',\n",
    ")\n",
    "     \n"
   ]
  },
  {
   "cell_type": "code",
   "execution_count": null,
   "id": "ec2b6efa-53df-40fd-99f9-8cf84b905542",
   "metadata": {},
   "outputs": [],
   "source": []
  }
 ],
 "metadata": {
  "kernelspec": {
   "display_name": "Python [conda env:base] *",
   "language": "python",
   "name": "conda-base-py"
  },
  "language_info": {
   "codemirror_mode": {
    "name": "ipython",
    "version": 3
   },
   "file_extension": ".py",
   "mimetype": "text/x-python",
   "name": "python",
   "nbconvert_exporter": "python",
   "pygments_lexer": "ipython3",
   "version": "3.12.7"
  }
 },
 "nbformat": 4,
 "nbformat_minor": 5
}
